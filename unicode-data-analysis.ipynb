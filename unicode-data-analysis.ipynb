{
 "cells": [
  {
   "cell_type": "markdown",
   "metadata": {},
   "source": [
    "# Analysis of Unicode character names"
   ]
  },
  {
   "cell_type": "code",
   "execution_count": 1,
   "metadata": {},
   "outputs": [
    {
     "data": {
      "text/plain": [
       "'3.7.1 (default, Dec 14 2018, 13:28:58) \\n[Clang 4.0.1 (tags/RELEASE_401/final)]'"
      ]
     },
     "execution_count": 1,
     "metadata": {},
     "output_type": "execute_result"
    }
   ],
   "source": [
    "import unicodedata\n",
    "import collections\n",
    "import sys\n",
    "\n",
    "sys.version"
   ]
  },
  {
   "cell_type": "markdown",
   "metadata": {},
   "source": [
    "## Largest Unicode code point"
   ]
  },
  {
   "cell_type": "code",
   "execution_count": 2,
   "metadata": {},
   "outputs": [
    {
     "data": {
      "text/plain": [
       "1114111"
      ]
     },
     "execution_count": 2,
     "metadata": {},
     "output_type": "execute_result"
    }
   ],
   "source": [
    "sys.maxunicode"
   ]
  },
  {
   "cell_type": "markdown",
   "metadata": {},
   "source": [
    "## Top 20 words used in character names"
   ]
  },
  {
   "cell_type": "code",
   "execution_count": 3,
   "metadata": {},
   "outputs": [
    {
     "data": {
      "text/plain": [
       "[('CJK', 89107),\n",
       " ('UNIFIED', 87942),\n",
       " ('SYLLABLE', 13393),\n",
       " ('HANGUL', 11735),\n",
       " ('LETTER', 10017),\n",
       " ('SIGN', 3156),\n",
       " ('WITH', 2676),\n",
       " ('SMALL', 2595),\n",
       " ('CAPITAL', 1967),\n",
       " ('HIEROGLYPH', 1654),\n",
       " ('LATIN', 1495),\n",
       " ('ARABIC', 1250),\n",
       " ('YI', 1249),\n",
       " ('CUNEIFORM', 1234),\n",
       " ('MATHEMATICAL', 1152),\n",
       " ('SYMBOL', 1151),\n",
       " ('EGYPTIAN', 1071),\n",
       " ('COMPATIBILITY', 1014),\n",
       " ('DIGIT', 828),\n",
       " ('FORM', 812)]"
      ]
     },
     "execution_count": 3,
     "metadata": {},
     "output_type": "execute_result"
    }
   ],
   "source": [
    "c = collections.Counter()\n",
    "\n",
    "for i in range(0, sys.maxunicode+1):\n",
    "    try:\n",
    "        name = unicodedata.name(chr(i))\n",
    "    except ValueError:  # no such character\n",
    "        continue\n",
    "    for word in name.split():\n",
    "        c[word] += 1\n",
    "\n",
    "c.most_common(20)"
   ]
  },
  {
   "cell_type": "markdown",
   "metadata": {},
   "source": [
    "## All characters used in Unicode character names"
   ]
  },
  {
   "cell_type": "code",
   "execution_count": 4,
   "metadata": {},
   "outputs": [
    {
     "name": "stdout",
     "output_type": "stream",
     "text": [
      "| |-|0|1|2|3|4|5|6|7|8|9|A|B|C|D|E|F|G|H|I|J|K|L|M|N|O|P|Q|R|S|T|U|V|W|X|Y|Z|\n"
     ]
    }
   ],
   "source": [
    "chars = set()\n",
    "\n",
    "for i in range(0, sys.maxunicode+1):\n",
    "    try:\n",
    "        name = unicodedata.name(chr(i))\n",
    "    except ValueError:  # no such character\n",
    "        continue\n",
    "    chars.update(name)\n",
    "\n",
    "print('|', '|'.join(sorted(chars)), '|', sep='')"
   ]
  },
  {
   "cell_type": "markdown",
   "metadata": {},
   "source": [
    "Conclusion: the only characters used in the Unicode character names are uppercase A..Z, 0..9, space, and hyphen."
   ]
  }
 ],
 "metadata": {
  "kernelspec": {
   "display_name": "Python 3",
   "language": "python",
   "name": "python3"
  },
  "language_info": {
   "codemirror_mode": {
    "name": "ipython",
    "version": 3
   },
   "file_extension": ".py",
   "mimetype": "text/x-python",
   "name": "python",
   "nbconvert_exporter": "python",
   "pygments_lexer": "ipython3",
   "version": "3.7.1"
  }
 },
 "nbformat": 4,
 "nbformat_minor": 2
}
