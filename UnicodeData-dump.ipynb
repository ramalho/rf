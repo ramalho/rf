{
 "cells": [
  {
   "cell_type": "markdown",
   "id": "c6d83df9-d28d-42bb-8d37-9485cfc8d5b5",
   "metadata": {},
   "source": [
    "## Convert UnicodeData.txt to JSON"
   ]
  },
  {
   "cell_type": "code",
   "execution_count": null,
   "id": "6f6988cd-49f7-470c-98f6-5b788431a0cf",
   "metadata": {},
   "outputs": [],
   "source": [
    "def parse():\n",
    "    with open('UnicodeData.txt', encoding='ascii') as fp:\n",
    "        lines = fp.readlines()[32:]  # skip CTRL\n",
    "\n",
    "    char_to_name = {}\n",
    "    for line in lines:\n",
    "        code, name, *_ = line.split(';')\n",
    "        char = chr(int(code, 16))\n",
    "        char_to_name[char] = name\n",
    "\n",
    "    return char_to_name"
   ]
  },
  {
   "cell_type": "code",
   "execution_count": null,
   "id": "7ee38e37-0993-479d-8143-80adeced103c",
   "metadata": {},
   "outputs": [],
   "source": [
    "import json\n",
    "\n",
    "with open('unicodetada.js', 'wt', encoding='utf8') as fp:\n",
    "    json.dump(parse(), fp, separators=(',\\n' ,':'))"
   ]
  }
 ],
 "metadata": {
  "kernelspec": {
   "display_name": "Python 3 (ipykernel)",
   "language": "python",
   "name": "python3"
  },
  "language_info": {
   "codemirror_mode": {
    "name": "ipython",
    "version": 3
   },
   "file_extension": ".py",
   "mimetype": "text/x-python",
   "name": "python",
   "nbconvert_exporter": "python",
   "pygments_lexer": "ipython3",
   "version": "3.12.2"
  }
 },
 "nbformat": 4,
 "nbformat_minor": 5
}
